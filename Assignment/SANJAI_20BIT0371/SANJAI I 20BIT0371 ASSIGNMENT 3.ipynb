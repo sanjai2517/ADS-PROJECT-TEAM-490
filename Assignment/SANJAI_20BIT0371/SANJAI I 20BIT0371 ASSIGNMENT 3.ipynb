{
 "cells": [
  {
   "cell_type": "markdown",
   "id": "b90880a3",
   "metadata": {},
   "source": [
    "# SANJAI I \n",
    "# 20BIT0371\n",
    "# ADS ASSIGNMENT 3"
   ]
  },
  {
   "cell_type": "markdown",
   "id": "7817159a",
   "metadata": {},
   "source": [
    "## Importing libraries"
   ]
  },
  {
   "cell_type": "code",
   "execution_count": 1,
   "id": "000c5e70",
   "metadata": {},
   "outputs": [],
   "source": [
    "import pandas as pd\n",
    "import seaborn as sns\n",
    "import matplotlib.pyplot as plt\n",
    "import numpy as np"
   ]
  },
  {
   "cell_type": "markdown",
   "id": "0851230b",
   "metadata": {},
   "source": [
    "## 2. Load the dataset into the tool."
   ]
  },
  {
   "cell_type": "code",
   "execution_count": 2,
   "id": "bea41477",
   "metadata": {},
   "outputs": [],
   "source": [
    "df=pd.read_csv('Housing.csv')"
   ]
  },
  {
   "cell_type": "code",
   "execution_count": 3,
   "id": "67c9f56d",
   "metadata": {},
   "outputs": [
    {
     "data": {
      "text/html": [
       "<div>\n",
       "<style scoped>\n",
       "    .dataframe tbody tr th:only-of-type {\n",
       "        vertical-align: middle;\n",
       "    }\n",
       "\n",
       "    .dataframe tbody tr th {\n",
       "        vertical-align: top;\n",
       "    }\n",
       "\n",
       "    .dataframe thead th {\n",
       "        text-align: right;\n",
       "    }\n",
       "</style>\n",
       "<table border=\"1\" class=\"dataframe\">\n",
       "  <thead>\n",
       "    <tr style=\"text-align: right;\">\n",
       "      <th></th>\n",
       "      <th>price</th>\n",
       "      <th>area</th>\n",
       "      <th>bedrooms</th>\n",
       "      <th>bathrooms</th>\n",
       "      <th>stories</th>\n",
       "      <th>mainroad</th>\n",
       "      <th>guestroom</th>\n",
       "      <th>basement</th>\n",
       "      <th>hotwaterheating</th>\n",
       "      <th>airconditioning</th>\n",
       "      <th>parking</th>\n",
       "      <th>furnishingstatus</th>\n",
       "    </tr>\n",
       "  </thead>\n",
       "  <tbody>\n",
       "    <tr>\n",
       "      <th>0</th>\n",
       "      <td>13300000</td>\n",
       "      <td>7420</td>\n",
       "      <td>4</td>\n",
       "      <td>2</td>\n",
       "      <td>3</td>\n",
       "      <td>yes</td>\n",
       "      <td>no</td>\n",
       "      <td>no</td>\n",
       "      <td>no</td>\n",
       "      <td>yes</td>\n",
       "      <td>2</td>\n",
       "      <td>furnished</td>\n",
       "    </tr>\n",
       "    <tr>\n",
       "      <th>1</th>\n",
       "      <td>12250000</td>\n",
       "      <td>8960</td>\n",
       "      <td>4</td>\n",
       "      <td>4</td>\n",
       "      <td>4</td>\n",
       "      <td>yes</td>\n",
       "      <td>no</td>\n",
       "      <td>no</td>\n",
       "      <td>no</td>\n",
       "      <td>yes</td>\n",
       "      <td>3</td>\n",
       "      <td>furnished</td>\n",
       "    </tr>\n",
       "    <tr>\n",
       "      <th>2</th>\n",
       "      <td>12250000</td>\n",
       "      <td>9960</td>\n",
       "      <td>3</td>\n",
       "      <td>2</td>\n",
       "      <td>2</td>\n",
       "      <td>yes</td>\n",
       "      <td>no</td>\n",
       "      <td>yes</td>\n",
       "      <td>no</td>\n",
       "      <td>no</td>\n",
       "      <td>2</td>\n",
       "      <td>semi-furnished</td>\n",
       "    </tr>\n",
       "    <tr>\n",
       "      <th>3</th>\n",
       "      <td>12215000</td>\n",
       "      <td>7500</td>\n",
       "      <td>4</td>\n",
       "      <td>2</td>\n",
       "      <td>2</td>\n",
       "      <td>yes</td>\n",
       "      <td>no</td>\n",
       "      <td>yes</td>\n",
       "      <td>no</td>\n",
       "      <td>yes</td>\n",
       "      <td>3</td>\n",
       "      <td>furnished</td>\n",
       "    </tr>\n",
       "    <tr>\n",
       "      <th>4</th>\n",
       "      <td>11410000</td>\n",
       "      <td>7420</td>\n",
       "      <td>4</td>\n",
       "      <td>1</td>\n",
       "      <td>2</td>\n",
       "      <td>yes</td>\n",
       "      <td>yes</td>\n",
       "      <td>yes</td>\n",
       "      <td>no</td>\n",
       "      <td>yes</td>\n",
       "      <td>2</td>\n",
       "      <td>furnished</td>\n",
       "    </tr>\n",
       "  </tbody>\n",
       "</table>\n",
       "</div>"
      ],
      "text/plain": [
       "      price  area  bedrooms  bathrooms  stories mainroad guestroom basement  \\\n",
       "0  13300000  7420         4          2        3      yes        no       no   \n",
       "1  12250000  8960         4          4        4      yes        no       no   \n",
       "2  12250000  9960         3          2        2      yes        no      yes   \n",
       "3  12215000  7500         4          2        2      yes        no      yes   \n",
       "4  11410000  7420         4          1        2      yes       yes      yes   \n",
       "\n",
       "  hotwaterheating airconditioning  parking furnishingstatus  \n",
       "0              no             yes        2        furnished  \n",
       "1              no             yes        3        furnished  \n",
       "2              no              no        2   semi-furnished  \n",
       "3              no             yes        3        furnished  \n",
       "4              no             yes        2        furnished  "
      ]
     },
     "execution_count": 3,
     "metadata": {},
     "output_type": "execute_result"
    }
   ],
   "source": [
    "df.head()"
   ]
  },
  {
   "cell_type": "code",
   "execution_count": 4,
   "id": "c4c78e99",
   "metadata": {},
   "outputs": [
    {
     "data": {
      "text/plain": [
       "(545, 12)"
      ]
     },
     "execution_count": 4,
     "metadata": {},
     "output_type": "execute_result"
    }
   ],
   "source": [
    "df.shape"
   ]
  },
  {
   "cell_type": "markdown",
   "id": "cecff109",
   "metadata": {},
   "source": [
    "## 3. Perform Below Visualizations.\n",
    "● Univariate Analysis ● Bi - Variate Analysis ● Multi - Variate Analysis"
   ]
  },
  {
   "cell_type": "code",
   "execution_count": 5,
   "id": "7e13435c",
   "metadata": {},
   "outputs": [
    {
     "data": {
      "text/plain": [
       "<Axes: xlabel='price', ylabel='Count'>"
      ]
     },
     "execution_count": 5,
     "metadata": {},
     "output_type": "execute_result"
    },
    {
     "data": {
      "image/png": "[encoded data removed]",
      "text/plain": [
       "<Figure size 640x480 with 1 Axes>"
      ]
     },
     "metadata": {},
     "output_type": "display_data"
    }
   ],
   "source": [
    "# Univariate analysis\n",
    "\n",
    "# Histogram\n",
    "\n",
    "sns.histplot(df['price'])"
   ]
  },
  {
   "cell_type": "code",
   "execution_count": 6,
   "id": "b50daf0c",
   "metadata": {},
   "outputs": [
    {
     "data": {
      "text/plain": [
       "<Axes: xlabel='area', ylabel='count'>"
      ]
     },
     "execution_count": 6,
     "metadata": {},
     "output_type": "execute_result"
    },
    {
     "data": {
      "image/png": "[encoded data removed]",
      "text/plain": [
       "<Figure size 640x480 with 1 Axes>"
      ]
     },
     "metadata": {},
     "output_type": "display_data"
    }
   ],
   "source": [
    "import seaborn as sns \n",
    "sns.countplot(data=df,x='area')"
   ]
  },
  {
   "cell_type": "code",
   "execution_count": 7,
   "id": "41e8f6a7",
   "metadata": {},
   "outputs": [
    {
     "data": {
      "text/plain": [
       "<Axes: ylabel='furnishingstatus'>"
      ]
     },
     "execution_count": 7,
     "metadata": {},
     "output_type": "execute_result"
    },
    {
     "data": {
      "image/png": "[encoded data removed]",
      "text/plain": [
       "<Figure size 640x480 with 1 Axes>"
      ]
     },
     "metadata": {},
     "output_type": "display_data"
    }
   ],
   "source": [
    "#piechart on gender \n",
    "\n",
    "df['furnishingstatus'].value_counts().plot(kind=\"pie\",autopct=\"%.2f\")"
   ]
  },
  {
   "cell_type": "code",
   "execution_count": 8,
   "id": "c36f5306",
   "metadata": {},
   "outputs": [
    {
     "data": {
      "text/plain": [
       "<Axes: >"
      ]
     },
     "execution_count": 8,
     "metadata": {},
     "output_type": "execute_result"
    },
    {
     "data": {
      "image/png": "[encoded data removed]",
      "text/plain": [
       "<Figure size 640x480 with 1 Axes>"
      ]
     },
     "metadata": {},
     "output_type": "display_data"
    }
   ],
   "source": [
    "sns.boxplot(df['price'])"
   ]
  },
  {
   "cell_type": "code",
   "execution_count": 9,
   "id": "945a1c85",
   "metadata": {},
   "outputs": [
    {
     "data": {
      "text/plain": [
       "<Axes: xlabel='price', ylabel='furnishingstatus'>"
      ]
     },
     "execution_count": 9,
     "metadata": {},
     "output_type": "execute_result"
    },
    {
     "data": {
      "image/png": "[encoded data removed]",
      "text/plain": [
       "<Figure size 640x480 with 1 Axes>"
      ]
     },
     "metadata": {},
     "output_type": "display_data"
    }
   ],
   "source": [
    "# Bivariate analysis\n",
    "\n",
    "# Scatter plot\n",
    "sns.scatterplot(data=df,x=\"price\",y=\"furnishingstatus\")"
   ]
  },
  {
   "cell_type": "code",
   "execution_count": 61,
   "id": "017d67eb",
   "metadata": {},
   "outputs": [
    {
     "data": {
      "image/png": "[encoded data removed]",
      "text/plain": [
       "<Figure size 640x480 with 2 Axes>"
      ]
     },
     "metadata": {},
     "output_type": "display_data"
    }
   ],
   "source": [
    "# Multivariate Analysis\n",
    "\n",
    "correlation_matrix = df[['price', 'furnishingstatus', 'area']].corr()\n",
    "\n",
    "# Create a heatmap\n",
    "sns.heatmap(correlation_matrix, annot=True, cmap='coolwarm')\n",
    "plt.title(\"Correlation Matrix Heatmap\")\n",
    "plt.show()"
   ]
  },
  {
   "cell_type": "markdown",
   "id": "d304a4f6",
   "metadata": {},
   "source": [
    "## 4. Perform descriptive statistics on the dataset."
   ]
  },
  {
   "cell_type": "code",
   "execution_count": 62,
   "id": "2697185a",
   "metadata": {},
   "outputs": [
    {
     "data": {
      "text/plain": [
       "price               4.593489e+06\n",
       "area                4.972341e+03\n",
       "bedrooms            2.917431e+00\n",
       "bathrooms           1.280734e+00\n",
       "stories             1.655046e+00\n",
       "mainroad            8.587156e-01\n",
       "guestroom           1.779817e-01\n",
       "basement            3.504587e-01\n",
       "hotwaterheating     4.587156e-02\n",
       "airconditioning     3.155963e-01\n",
       "parking             6.935780e-01\n",
       "furnishingstatus    1.069725e+00\n",
       "dtype: float64"
      ]
     },
     "execution_count": 62,
     "metadata": {},
     "output_type": "execute_result"
    }
   ],
   "source": [
    "# Mean\n",
    "df.mean()"
   ]
  },
  {
   "cell_type": "code",
   "execution_count": 63,
   "id": "9db1dbf7",
   "metadata": {},
   "outputs": [
    {
     "data": {
      "text/plain": [
       "price               4340000.0\n",
       "area                   4600.0\n",
       "bedrooms                  3.0\n",
       "bathrooms                 1.0\n",
       "stories                   2.0\n",
       "mainroad                  1.0\n",
       "guestroom                 0.0\n",
       "basement                  0.0\n",
       "hotwaterheating           0.0\n",
       "airconditioning           0.0\n",
       "parking                   0.0\n",
       "furnishingstatus          1.0\n",
       "dtype: float64"
      ]
     },
     "execution_count": 63,
     "metadata": {},
     "output_type": "execute_result"
    }
   ],
   "source": [
    "df.median()"
   ]
  },
  {
   "cell_type": "code",
   "execution_count": 64,
   "id": "e40d369b",
   "metadata": {},
   "outputs": [
    {
     "data": {
      "text/html": [
       "<div>\n",
       "<style scoped>\n",
       "    .dataframe tbody tr th:only-of-type {\n",
       "        vertical-align: middle;\n",
       "    }\n",
       "\n",
       "    .dataframe tbody tr th {\n",
       "        vertical-align: top;\n",
       "    }\n",
       "\n",
       "    .dataframe thead th {\n",
       "        text-align: right;\n",
       "    }\n",
       "</style>\n",
       "<table border=\"1\" class=\"dataframe\">\n",
       "  <thead>\n",
       "    <tr style=\"text-align: right;\">\n",
       "      <th></th>\n",
       "      <th>price</th>\n",
       "      <th>area</th>\n",
       "      <th>bedrooms</th>\n",
       "      <th>bathrooms</th>\n",
       "      <th>stories</th>\n",
       "      <th>mainroad</th>\n",
       "      <th>guestroom</th>\n",
       "      <th>basement</th>\n",
       "      <th>hotwaterheating</th>\n",
       "      <th>airconditioning</th>\n",
       "      <th>parking</th>\n",
       "      <th>furnishingstatus</th>\n",
       "    </tr>\n",
       "  </thead>\n",
       "  <tbody>\n",
       "    <tr>\n",
       "      <th>0</th>\n",
       "      <td>4340000</td>\n",
       "      <td>6000</td>\n",
       "      <td>3</td>\n",
       "      <td>1</td>\n",
       "      <td>2</td>\n",
       "      <td>1</td>\n",
       "      <td>0</td>\n",
       "      <td>0</td>\n",
       "      <td>0</td>\n",
       "      <td>0</td>\n",
       "      <td>0</td>\n",
       "      <td>1</td>\n",
       "    </tr>\n",
       "  </tbody>\n",
       "</table>\n",
       "</div>"
      ],
      "text/plain": [
       "     price  area  bedrooms  bathrooms  stories  mainroad  guestroom  basement  \\\n",
       "0  4340000  6000         3          1        2         1          0         0   \n",
       "\n",
       "   hotwaterheating  airconditioning  parking  furnishingstatus  \n",
       "0                0                0        0                 1  "
      ]
     },
     "execution_count": 64,
     "metadata": {},
     "output_type": "execute_result"
    }
   ],
   "source": [
    "df.mode()"
   ]
  },
  {
   "cell_type": "code",
   "execution_count": 65,
   "id": "df1d7466",
   "metadata": {},
   "outputs": [
    {
     "data": {
      "text/plain": [
       "price               9100000\n",
       "area                  10500\n",
       "bedrooms                  4\n",
       "bathrooms                 3\n",
       "stories                   3\n",
       "mainroad                  1\n",
       "guestroom                 1\n",
       "basement                  1\n",
       "hotwaterheating           1\n",
       "airconditioning           1\n",
       "parking                   3\n",
       "furnishingstatus          2\n",
       "dtype: int64"
      ]
     },
     "execution_count": 65,
     "metadata": {},
     "output_type": "execute_result"
    }
   ],
   "source": [
    "df.max()"
   ]
  },
  {
   "cell_type": "code",
   "execution_count": 66,
   "id": "d2f33dbe",
   "metadata": {},
   "outputs": [
    {
     "data": {
      "text/plain": [
       "price               1750000\n",
       "area                   1650\n",
       "bedrooms                  1\n",
       "bathrooms                 1\n",
       "stories                   1\n",
       "mainroad                  0\n",
       "guestroom                 0\n",
       "basement                  0\n",
       "hotwaterheating           0\n",
       "airconditioning           0\n",
       "parking                   0\n",
       "furnishingstatus          0\n",
       "dtype: int64"
      ]
     },
     "execution_count": 66,
     "metadata": {},
     "output_type": "execute_result"
    }
   ],
   "source": [
    "df.min()"
   ]
  },
  {
   "cell_type": "code",
   "execution_count": 67,
   "id": "c1ab1d56",
   "metadata": {},
   "outputs": [
    {
     "data": {
      "text/plain": [
       "price               7350000\n",
       "area                   8850\n",
       "bedrooms                  3\n",
       "bathrooms                 2\n",
       "stories                   2\n",
       "mainroad                  1\n",
       "guestroom                 1\n",
       "basement                  1\n",
       "hotwaterheating           1\n",
       "airconditioning           1\n",
       "parking                   3\n",
       "furnishingstatus          2\n",
       "dtype: int64"
      ]
     },
     "execution_count": 67,
     "metadata": {},
     "output_type": "execute_result"
    }
   ],
   "source": [
    "# range\n",
    "\n",
    "ran=df.max()-df.min()\n",
    "ran"
   ]
  },
  {
   "cell_type": "code",
   "execution_count": 68,
   "id": "0f05fd15",
   "metadata": {},
   "outputs": [
    {
     "data": {
      "text/plain": [
       "price               2.479172e+12\n",
       "area                3.369209e+06\n",
       "bedrooms            4.325081e-01\n",
       "bathrooms           2.390583e-01\n",
       "stories             3.697585e-01\n",
       "mainroad            1.215461e-01\n",
       "guestroom           1.465731e-01\n",
       "basement            2.280559e-01\n",
       "hotwaterheating     4.384781e-02\n",
       "airconditioning     2.163923e-01\n",
       "parking             7.423300e-01\n",
       "furnishingstatus    5.796883e-01\n",
       "dtype: float64"
      ]
     },
     "execution_count": 68,
     "metadata": {},
     "output_type": "execute_result"
    }
   ],
   "source": [
    "df.var()"
   ]
  },
  {
   "cell_type": "code",
   "execution_count": 69,
   "id": "9b37836e",
   "metadata": {},
   "outputs": [
    {
     "data": {
      "text/plain": [
       "price               1.574539e+06\n",
       "area                1.835540e+03\n",
       "bedrooms            6.576535e-01\n",
       "bathrooms           4.889359e-01\n",
       "stories             6.080777e-01\n",
       "mainroad            3.486347e-01\n",
       "guestroom           3.828487e-01\n",
       "basement            4.775519e-01\n",
       "hotwaterheating     2.093987e-01\n",
       "airconditioning     4.651799e-01\n",
       "parking             8.615858e-01\n",
       "furnishingstatus    7.613727e-01\n",
       "dtype: float64"
      ]
     },
     "execution_count": 69,
     "metadata": {},
     "output_type": "execute_result"
    }
   ],
   "source": [
    "df.std()"
   ]
  },
  {
   "cell_type": "code",
   "execution_count": 70,
   "id": "d4372ed5",
   "metadata": {},
   "outputs": [
    {
     "data": {
      "text/plain": [
       "0.75    5565000.0\n",
       "0.25    3430000.0\n",
       "0.50    4340000.0\n",
       "Name: price, dtype: float64"
      ]
     },
     "execution_count": 70,
     "metadata": {},
     "output_type": "execute_result"
    }
   ],
   "source": [
    "quantile=df['price'].quantile(q=[0.75,0.25,0.50])\n",
    "quantile"
   ]
  },
  {
   "cell_type": "markdown",
   "id": "47aa504e",
   "metadata": {},
   "source": [
    "## 5. Check for Missing values and deal with them."
   ]
  },
  {
   "cell_type": "code",
   "execution_count": 22,
   "id": "3a0d0811",
   "metadata": {},
   "outputs": [
    {
     "data": {
      "text/plain": [
       "price               0\n",
       "area                0\n",
       "bedrooms            0\n",
       "bathrooms           0\n",
       "stories             0\n",
       "mainroad            0\n",
       "guestroom           0\n",
       "basement            0\n",
       "hotwaterheating     0\n",
       "airconditioning     0\n",
       "parking             0\n",
       "furnishingstatus    0\n",
       "dtype: int64"
      ]
     },
     "execution_count": 22,
     "metadata": {},
     "output_type": "execute_result"
    }
   ],
   "source": [
    "df.isna().sum()"
   ]
  },
  {
   "cell_type": "markdown",
   "id": "fc879180",
   "metadata": {},
   "source": [
    "## 6. Find the outliers and replace them outliers"
   ]
  },
  {
   "cell_type": "code",
   "execution_count": 71,
   "id": "07dbba23",
   "metadata": {},
   "outputs": [
    {
     "name": "stdout",
     "output_type": "stream",
     "text": [
      "price       price  area  bedrooms  bathrooms  stories  mainroad  guestroom  \\\n",
      "15  9100000  6000         4          1        2         1          0   \n",
      "16  9100000  6600         4          2        2         1          1   \n",
      "17  8960000  8500         3          2        2         1          0   \n",
      "18  8890000  4600         3          2        2         1          1   \n",
      "19  8855000  6420         3          2        2         1          0   \n",
      "\n",
      "    basement  hotwaterheating  airconditioning  parking  furnishingstatus  \n",
      "15         1                0                0        2                 1  \n",
      "16         1                0                1        1                 2  \n",
      "17         0                0                1        2                 0  \n",
      "18         0                0                1        2                 0  \n",
      "19         0                0                1        1                 1  \n",
      "area        price   area  bedrooms  bathrooms  stories  mainroad  guestroom  \\\n",
      "82   6615000  10500         3          2        1         1          0   \n",
      "142  5600000  10500         4          2        2         1          0   \n",
      "146  5600000  10500         2          1        1         1          0   \n",
      "171  5250000  10269         3          1        1         1          0   \n",
      "224  4760000  10240         2          1        1         1          0   \n",
      "277  4305000  10360         2          1        1         1          0   \n",
      "\n",
      "     basement  hotwaterheating  airconditioning  parking  furnishingstatus  \n",
      "82          1                0                1        1                 0  \n",
      "142         0                0                0        1                 1  \n",
      "146         0                0                0        1                 1  \n",
      "171         0                0                0        1                 1  \n",
      "224         0                0                1        2                 2  \n",
      "277         0                0                0        1                 1  \n",
      "bedrooms Empty DataFrame\n",
      "Columns: [price, area, bedrooms, bathrooms, stories, mainroad, guestroom, basement, hotwaterheating, airconditioning, parking, furnishingstatus]\n",
      "Index: []\n",
      "bathrooms Empty DataFrame\n",
      "Columns: [price, area, bedrooms, bathrooms, stories, mainroad, guestroom, basement, hotwaterheating, airconditioning, parking, furnishingstatus]\n",
      "Index: []\n",
      "stories Empty DataFrame\n",
      "Columns: [price, area, bedrooms, bathrooms, stories, mainroad, guestroom, basement, hotwaterheating, airconditioning, parking, furnishingstatus]\n",
      "Index: []\n",
      "mainroad        price  area  bedrooms  bathrooms  stories  mainroad  guestroom  \\\n",
      "143  5600000  4800         3          2        3         0          0   \n",
      "157  5495000  2817         4          2        2         0          1   \n",
      "169  5250000  6540         4          2        2         0          0   \n",
      "180  5215000  4500         4          2        1         0          0   \n",
      "182  5145000  3410         3          1        2         0          0   \n",
      "..       ...   ...       ...        ...      ...       ...        ...   \n",
      "532  2135000  3000         2          1        1         0          0   \n",
      "536  1960000  3420         3          1        2         0          0   \n",
      "539  1855000  2990         2          1        1         0          0   \n",
      "541  1767150  2400         3          1        1         0          0   \n",
      "543  1750000  2910         3          1        1         0          0   \n",
      "\n",
      "     basement  hotwaterheating  airconditioning  parking  furnishingstatus  \n",
      "143         1                1                0        0                 2  \n",
      "157         1                0                0        1                 0  \n",
      "169         0                0                1        0                 1  \n",
      "180         1                0                1        2                 1  \n",
      "182         0                0                1        0                 1  \n",
      "..        ...              ...              ...      ...               ...  \n",
      "532         0                0                0        0                 2  \n",
      "536         0                0                0        0                 2  \n",
      "539         0                0                0        1                 2  \n",
      "541         0                0                0        0                 1  \n",
      "543         0                0                0        0                 0  \n",
      "\n",
      "[77 rows x 12 columns]\n",
      "guestroom        price  area  bedrooms  bathrooms  stories  mainroad  guestroom  \\\n",
      "4    4340000  7420         4          1        2         1          1   \n",
      "8    4340000  8100         4          1        2         1          1   \n",
      "9    4340000  5750         3          2        2         1          1   \n",
      "11   4340000  6000         4          3        2         1          1   \n",
      "16   4340000  6600         4          2        2         1          1   \n",
      "..       ...   ...       ...        ...      ...       ...        ...   \n",
      "446  3150000  3986         2          2        1         1          1   \n",
      "463  3080000  3090         2          1        1         1          1   \n",
      "499  2660000  3630         3          3        2         1          1   \n",
      "516  2450000  3240         2          1        1         1          1   \n",
      "518  2450000  3500         2          1        1         1          1   \n",
      "\n",
      "     basement  hotwaterheating  airconditioning  parking  furnishingstatus  \n",
      "4           1                0                1        2                 0  \n",
      "8           1                0                1        2                 0  \n",
      "9           0                0                1        1                 2  \n",
      "11          1                1                0        2                 1  \n",
      "16          1                0                1        1                 2  \n",
      "..        ...              ...              ...      ...               ...  \n",
      "446         1                0                0        1                 2  \n",
      "463         1                0                0        0                 2  \n",
      "499         0                0                0        0                 2  \n",
      "516         0                0                0        1                 2  \n",
      "518         0                0                0        0                 2  \n",
      "\n",
      "[97 rows x 12 columns]\n",
      "basement Empty DataFrame\n",
      "Columns: [price, area, bedrooms, bathrooms, stories, mainroad, guestroom, basement, hotwaterheating, airconditioning, parking, furnishingstatus]\n",
      "Index: []\n",
      "hotwaterheating        price  area  bedrooms  bathrooms  stories  mainroad  guestroom  \\\n",
      "11   4340000  6000         4          3        2         1          0   \n",
      "13   4340000  3500         4          2        2         1          0   \n",
      "20   8750000  4320         3          1        2         1          0   \n",
      "28   8400000  7950         3          2        2         1          0   \n",
      "36   8043000  7482         3          2        3         1          0   \n",
      "66   6930000  4600         2          1        1         1          0   \n",
      "74   6650000  4040         3          1        2         1          0   \n",
      "75   6650000  4260         4          2        2         1          0   \n",
      "80   6629000  6000         3          1        2         1          0   \n",
      "84   6510000  3760         3          1        2         1          0   \n",
      "109  6090000  6615         4          2        2         1          0   \n",
      "143  5600000  4800         3          2        3         1          0   \n",
      "165  5383000  6450         3          2        1         1          0   \n",
      "196  4970000  7686         3          1        1         1          0   \n",
      "270  4340000  4500         3          2        3         1          0   \n",
      "298  4200000  5800         3          1        1         1          0   \n",
      "321  4025000  3630         3          2        2         1          0   \n",
      "334  3920000  3290         2          1        1         1          0   \n",
      "350  3780000  3420         2          1        2         1          0   \n",
      "363  3710000  3584         2          1        1         1          0   \n",
      "364  3703000  3120         3          1        2         1          0   \n",
      "378  3640000  2275         3          1        3         1          0   \n",
      "464  3080000  4500         2          1        2         1          0   \n",
      "490  2835000  4350         3          1        2         1          0   \n",
      "530  2240000  1950         3          1        1         1          0   \n",
      "\n",
      "     basement  hotwaterheating  airconditioning  parking  furnishingstatus  \n",
      "11          1                1                0        2                 1  \n",
      "13          0                1                0        2                 0  \n",
      "20          1                1                0        2                 1  \n",
      "28          1                1                0        2                 2  \n",
      "36          0                1                0        1                 0  \n",
      "66          1                1                0        1                 0  \n",
      "74          1                1                0        1                 0  \n",
      "75          0                1                0        0                 1  \n",
      "80          0                1                0        1                 1  \n",
      "84          0                1                0        2                 1  \n",
      "109         0                1                0        1                 1  \n",
      "143         1                1                0        0                 2  \n",
      "165         1                1                0        0                 2  \n",
      "196         1                1                0        0                 1  \n",
      "270         0                1                0        1                 0  \n",
      "298         0                1                0        2                 1  \n",
      "321         0                1                0        2                 1  \n",
      "334         0                1                0        1                 0  \n",
      "350         0                1                0        1                 1  \n",
      "363         0                1                0        0                 1  \n",
      "364         1                1                0        0                 1  \n",
      "378         0                1                1        0                 1  \n",
      "464         0                1                0        1                 1  \n",
      "490         0                1                0        1                 2  \n",
      "530         0                1                0        0                 2  \n",
      "airconditioning Empty DataFrame\n",
      "Columns: [price, area, bedrooms, bathrooms, stories, mainroad, guestroom, basement, hotwaterheating, airconditioning, parking, furnishingstatus]\n",
      "Index: []\n",
      "parking        price  area  bedrooms  bathrooms  stories  mainroad  guestroom  \\\n",
      "1    4340000  8960         4          1        2         1          0   \n",
      "3    4340000  7500         4          2        2         1          0   \n",
      "47   7490000  6600         3          1        2         1          0   \n",
      "93   6300000  7200         3          2        1         1          0   \n",
      "225  4753000  6440         2          1        1         1          0   \n",
      "247  4550000  8400         4          1        2         1          0   \n",
      "299  4200000  7000         3          1        1         1          0   \n",
      "304  4193000  8250         3          1        1         1          0   \n",
      "323  4025000  5400         3          1        1         1          0   \n",
      "331  3920000  7260         3          2        1         1          0   \n",
      "401  3500000  9500         3          1        2         1          0   \n",
      "472  3010000  3630         4          1        2         1          0   \n",
      "\n",
      "     basement  hotwaterheating  airconditioning  parking  furnishingstatus  \n",
      "1           0                0                1        3                 0  \n",
      "3           1                0                1        3                 0  \n",
      "47          0                0                1        3                 0  \n",
      "93          1                0                1        3                 1  \n",
      "225         0                0                1        3                 1  \n",
      "247         0                0                0        3                 2  \n",
      "299         0                0                0        3                 0  \n",
      "304         1                0                0        3                 1  \n",
      "323         0                0                0        3                 1  \n",
      "331         1                0                0        3                 0  \n",
      "401         0                0                0        3                 2  \n",
      "472         0                0                0        3                 1  \n",
      "furnishingstatus Empty DataFrame\n",
      "Columns: [price, area, bedrooms, bathrooms, stories, mainroad, guestroom, basement, hotwaterheating, airconditioning, parking, furnishingstatus]\n",
      "Index: []\n"
     ]
    }
   ],
   "source": [
    "columns=['price','area','bedrooms','bathrooms','stories','mainroad','guestroom','basement','hotwaterheating','airconditioning','parking','furnishingstatus']\n",
    "for column in columns:\n",
    "  q1=df[column].quantile(0.25)\n",
    "  q3=df[column].quantile(0.75)\n",
    "  IQR =q3-q1\n",
    "  lowerbound=q1-(1.5*IQR)\n",
    "  upperbound=q3+(1.5*IQR)\n",
    "  # print(column,q1,q3,IQR,lowerbound,upperbound)\n",
    "\n",
    "\n",
    "  #outliers\n",
    "  outliers = df[(df[column] < lowerbound) | (df[column] > upperbound)]\n",
    "  print(column,outliers)\n",
    "  #replacing with median\n",
    "  df.loc[(df[column] < lowerbound) | (df[column] > upperbound), column] = df[column].median()\n"
   ]
  },
  {
   "cell_type": "markdown",
   "id": "c4509004",
   "metadata": {},
   "source": [
    "## 7. Check for Categorical columns and perform encoding."
   ]
  },
  {
   "cell_type": "code",
   "execution_count": 24,
   "id": "0e4ac0b6",
   "metadata": {},
   "outputs": [
    {
     "name": "stdout",
     "output_type": "stream",
     "text": [
      "<class 'pandas.core.frame.DataFrame'>\n",
      "RangeIndex: 545 entries, 0 to 544\n",
      "Data columns (total 12 columns):\n",
      " #   Column            Non-Null Count  Dtype \n",
      "---  ------            --------------  ----- \n",
      " 0   price             545 non-null    int64 \n",
      " 1   area              545 non-null    int64 \n",
      " 2   bedrooms          545 non-null    int64 \n",
      " 3   bathrooms         545 non-null    int64 \n",
      " 4   stories           545 non-null    int64 \n",
      " 5   mainroad          545 non-null    object\n",
      " 6   guestroom         545 non-null    object\n",
      " 7   basement          545 non-null    object\n",
      " 8   hotwaterheating   545 non-null    object\n",
      " 9   airconditioning   545 non-null    object\n",
      " 10  parking           545 non-null    int64 \n",
      " 11  furnishingstatus  545 non-null    object\n",
      "dtypes: int64(6), object(6)\n",
      "memory usage: 51.2+ KB\n"
     ]
    }
   ],
   "source": [
    "df.info()"
   ]
  },
  {
   "cell_type": "code",
   "execution_count": 25,
   "id": "16f854a7",
   "metadata": {},
   "outputs": [],
   "source": [
    "from sklearn.preprocessing import LabelEncoder\n",
    "\n",
    "le=LabelEncoder()"
   ]
  },
  {
   "cell_type": "code",
   "execution_count": 26,
   "id": "7bbf8491",
   "metadata": {},
   "outputs": [],
   "source": [
    "df.mainroad=le.fit_transform(df.mainroad)\n",
    "df.guestroom=le.fit_transform(df.guestroom)\n",
    "df.basement=le.fit_transform(df.basement)\n",
    "df.hotwaterheating=le.fit_transform(df.hotwaterheating)\n",
    "df.airconditioning=le.fit_transform(df.airconditioning)\n",
    "df.furnishingstatus=le.fit_transform(df.furnishingstatus)"
   ]
  },
  {
   "cell_type": "code",
   "execution_count": 27,
   "id": "7c604f68",
   "metadata": {},
   "outputs": [
    {
     "data": {
      "text/html": [
       "<div>\n",
       "<style scoped>\n",
       "    .dataframe tbody tr th:only-of-type {\n",
       "        vertical-align: middle;\n",
       "    }\n",
       "\n",
       "    .dataframe tbody tr th {\n",
       "        vertical-align: top;\n",
       "    }\n",
       "\n",
       "    .dataframe thead th {\n",
       "        text-align: right;\n",
       "    }\n",
       "</style>\n",
       "<table border=\"1\" class=\"dataframe\">\n",
       "  <thead>\n",
       "    <tr style=\"text-align: right;\">\n",
       "      <th></th>\n",
       "      <th>price</th>\n",
       "      <th>area</th>\n",
       "      <th>bedrooms</th>\n",
       "      <th>bathrooms</th>\n",
       "      <th>stories</th>\n",
       "      <th>mainroad</th>\n",
       "      <th>guestroom</th>\n",
       "      <th>basement</th>\n",
       "      <th>hotwaterheating</th>\n",
       "      <th>airconditioning</th>\n",
       "      <th>parking</th>\n",
       "      <th>furnishingstatus</th>\n",
       "    </tr>\n",
       "  </thead>\n",
       "  <tbody>\n",
       "    <tr>\n",
       "      <th>0</th>\n",
       "      <td>4340000</td>\n",
       "      <td>7420</td>\n",
       "      <td>4</td>\n",
       "      <td>2</td>\n",
       "      <td>3</td>\n",
       "      <td>1</td>\n",
       "      <td>0</td>\n",
       "      <td>0</td>\n",
       "      <td>0</td>\n",
       "      <td>1</td>\n",
       "      <td>2</td>\n",
       "      <td>0</td>\n",
       "    </tr>\n",
       "    <tr>\n",
       "      <th>1</th>\n",
       "      <td>4340000</td>\n",
       "      <td>8960</td>\n",
       "      <td>4</td>\n",
       "      <td>1</td>\n",
       "      <td>2</td>\n",
       "      <td>1</td>\n",
       "      <td>0</td>\n",
       "      <td>0</td>\n",
       "      <td>0</td>\n",
       "      <td>1</td>\n",
       "      <td>3</td>\n",
       "      <td>0</td>\n",
       "    </tr>\n",
       "    <tr>\n",
       "      <th>2</th>\n",
       "      <td>4340000</td>\n",
       "      <td>9960</td>\n",
       "      <td>3</td>\n",
       "      <td>2</td>\n",
       "      <td>2</td>\n",
       "      <td>1</td>\n",
       "      <td>0</td>\n",
       "      <td>1</td>\n",
       "      <td>0</td>\n",
       "      <td>0</td>\n",
       "      <td>2</td>\n",
       "      <td>1</td>\n",
       "    </tr>\n",
       "    <tr>\n",
       "      <th>3</th>\n",
       "      <td>4340000</td>\n",
       "      <td>7500</td>\n",
       "      <td>4</td>\n",
       "      <td>2</td>\n",
       "      <td>2</td>\n",
       "      <td>1</td>\n",
       "      <td>0</td>\n",
       "      <td>1</td>\n",
       "      <td>0</td>\n",
       "      <td>1</td>\n",
       "      <td>3</td>\n",
       "      <td>0</td>\n",
       "    </tr>\n",
       "    <tr>\n",
       "      <th>4</th>\n",
       "      <td>4340000</td>\n",
       "      <td>7420</td>\n",
       "      <td>4</td>\n",
       "      <td>1</td>\n",
       "      <td>2</td>\n",
       "      <td>1</td>\n",
       "      <td>1</td>\n",
       "      <td>1</td>\n",
       "      <td>0</td>\n",
       "      <td>1</td>\n",
       "      <td>2</td>\n",
       "      <td>0</td>\n",
       "    </tr>\n",
       "  </tbody>\n",
       "</table>\n",
       "</div>"
      ],
      "text/plain": [
       "     price  area  bedrooms  bathrooms  stories  mainroad  guestroom  basement  \\\n",
       "0  4340000  7420         4          2        3         1          0         0   \n",
       "1  4340000  8960         4          1        2         1          0         0   \n",
       "2  4340000  9960         3          2        2         1          0         1   \n",
       "3  4340000  7500         4          2        2         1          0         1   \n",
       "4  4340000  7420         4          1        2         1          1         1   \n",
       "\n",
       "   hotwaterheating  airconditioning  parking  furnishingstatus  \n",
       "0                0                1        2                 0  \n",
       "1                0                1        3                 0  \n",
       "2                0                0        2                 1  \n",
       "3                0                1        3                 0  \n",
       "4                0                1        2                 0  "
      ]
     },
     "execution_count": 27,
     "metadata": {},
     "output_type": "execute_result"
    }
   ],
   "source": [
    "df.head()"
   ]
  },
  {
   "cell_type": "markdown",
   "id": "b2e59554",
   "metadata": {},
   "source": [
    "## 8. Split the data into dependent and independent variables."
   ]
  },
  {
   "cell_type": "code",
   "execution_count": 28,
   "id": "98138b2e",
   "metadata": {},
   "outputs": [],
   "source": [
    "X = df.drop('price', axis=1)  \n",
    "y = df['price'] "
   ]
  },
  {
   "cell_type": "code",
   "execution_count": 29,
   "id": "e2ebf86c",
   "metadata": {},
   "outputs": [
    {
     "data": {
      "text/html": [
       "<div>\n",
       "<style scoped>\n",
       "    .dataframe tbody tr th:only-of-type {\n",
       "        vertical-align: middle;\n",
       "    }\n",
       "\n",
       "    .dataframe tbody tr th {\n",
       "        vertical-align: top;\n",
       "    }\n",
       "\n",
       "    .dataframe thead th {\n",
       "        text-align: right;\n",
       "    }\n",
       "</style>\n",
       "<table border=\"1\" class=\"dataframe\">\n",
       "  <thead>\n",
       "    <tr style=\"text-align: right;\">\n",
       "      <th></th>\n",
       "      <th>area</th>\n",
       "      <th>bedrooms</th>\n",
       "      <th>bathrooms</th>\n",
       "      <th>stories</th>\n",
       "      <th>mainroad</th>\n",
       "      <th>guestroom</th>\n",
       "      <th>basement</th>\n",
       "      <th>hotwaterheating</th>\n",
       "      <th>airconditioning</th>\n",
       "      <th>parking</th>\n",
       "      <th>furnishingstatus</th>\n",
       "    </tr>\n",
       "  </thead>\n",
       "  <tbody>\n",
       "    <tr>\n",
       "      <th>0</th>\n",
       "      <td>7420</td>\n",
       "      <td>4</td>\n",
       "      <td>2</td>\n",
       "      <td>3</td>\n",
       "      <td>1</td>\n",
       "      <td>0</td>\n",
       "      <td>0</td>\n",
       "      <td>0</td>\n",
       "      <td>1</td>\n",
       "      <td>2</td>\n",
       "      <td>0</td>\n",
       "    </tr>\n",
       "    <tr>\n",
       "      <th>1</th>\n",
       "      <td>8960</td>\n",
       "      <td>4</td>\n",
       "      <td>1</td>\n",
       "      <td>2</td>\n",
       "      <td>1</td>\n",
       "      <td>0</td>\n",
       "      <td>0</td>\n",
       "      <td>0</td>\n",
       "      <td>1</td>\n",
       "      <td>3</td>\n",
       "      <td>0</td>\n",
       "    </tr>\n",
       "    <tr>\n",
       "      <th>2</th>\n",
       "      <td>9960</td>\n",
       "      <td>3</td>\n",
       "      <td>2</td>\n",
       "      <td>2</td>\n",
       "      <td>1</td>\n",
       "      <td>0</td>\n",
       "      <td>1</td>\n",
       "      <td>0</td>\n",
       "      <td>0</td>\n",
       "      <td>2</td>\n",
       "      <td>1</td>\n",
       "    </tr>\n",
       "    <tr>\n",
       "      <th>3</th>\n",
       "      <td>7500</td>\n",
       "      <td>4</td>\n",
       "      <td>2</td>\n",
       "      <td>2</td>\n",
       "      <td>1</td>\n",
       "      <td>0</td>\n",
       "      <td>1</td>\n",
       "      <td>0</td>\n",
       "      <td>1</td>\n",
       "      <td>3</td>\n",
       "      <td>0</td>\n",
       "    </tr>\n",
       "    <tr>\n",
       "      <th>4</th>\n",
       "      <td>7420</td>\n",
       "      <td>4</td>\n",
       "      <td>1</td>\n",
       "      <td>2</td>\n",
       "      <td>1</td>\n",
       "      <td>1</td>\n",
       "      <td>1</td>\n",
       "      <td>0</td>\n",
       "      <td>1</td>\n",
       "      <td>2</td>\n",
       "      <td>0</td>\n",
       "    </tr>\n",
       "    <tr>\n",
       "      <th>...</th>\n",
       "      <td>...</td>\n",
       "      <td>...</td>\n",
       "      <td>...</td>\n",
       "      <td>...</td>\n",
       "      <td>...</td>\n",
       "      <td>...</td>\n",
       "      <td>...</td>\n",
       "      <td>...</td>\n",
       "      <td>...</td>\n",
       "      <td>...</td>\n",
       "      <td>...</td>\n",
       "    </tr>\n",
       "    <tr>\n",
       "      <th>540</th>\n",
       "      <td>3000</td>\n",
       "      <td>2</td>\n",
       "      <td>1</td>\n",
       "      <td>1</td>\n",
       "      <td>1</td>\n",
       "      <td>0</td>\n",
       "      <td>1</td>\n",
       "      <td>0</td>\n",
       "      <td>0</td>\n",
       "      <td>2</td>\n",
       "      <td>2</td>\n",
       "    </tr>\n",
       "    <tr>\n",
       "      <th>541</th>\n",
       "      <td>2400</td>\n",
       "      <td>3</td>\n",
       "      <td>1</td>\n",
       "      <td>1</td>\n",
       "      <td>0</td>\n",
       "      <td>0</td>\n",
       "      <td>0</td>\n",
       "      <td>0</td>\n",
       "      <td>0</td>\n",
       "      <td>0</td>\n",
       "      <td>1</td>\n",
       "    </tr>\n",
       "    <tr>\n",
       "      <th>542</th>\n",
       "      <td>3620</td>\n",
       "      <td>2</td>\n",
       "      <td>1</td>\n",
       "      <td>1</td>\n",
       "      <td>1</td>\n",
       "      <td>0</td>\n",
       "      <td>0</td>\n",
       "      <td>0</td>\n",
       "      <td>0</td>\n",
       "      <td>0</td>\n",
       "      <td>2</td>\n",
       "    </tr>\n",
       "    <tr>\n",
       "      <th>543</th>\n",
       "      <td>2910</td>\n",
       "      <td>3</td>\n",
       "      <td>1</td>\n",
       "      <td>1</td>\n",
       "      <td>0</td>\n",
       "      <td>0</td>\n",
       "      <td>0</td>\n",
       "      <td>0</td>\n",
       "      <td>0</td>\n",
       "      <td>0</td>\n",
       "      <td>0</td>\n",
       "    </tr>\n",
       "    <tr>\n",
       "      <th>544</th>\n",
       "      <td>3850</td>\n",
       "      <td>3</td>\n",
       "      <td>1</td>\n",
       "      <td>2</td>\n",
       "      <td>1</td>\n",
       "      <td>0</td>\n",
       "      <td>0</td>\n",
       "      <td>0</td>\n",
       "      <td>0</td>\n",
       "      <td>0</td>\n",
       "      <td>2</td>\n",
       "    </tr>\n",
       "  </tbody>\n",
       "</table>\n",
       "<p>545 rows × 11 columns</p>\n",
       "</div>"
      ],
      "text/plain": [
       "     area  bedrooms  bathrooms  stories  mainroad  guestroom  basement  \\\n",
       "0    7420         4          2        3         1          0         0   \n",
       "1    8960         4          1        2         1          0         0   \n",
       "2    9960         3          2        2         1          0         1   \n",
       "3    7500         4          2        2         1          0         1   \n",
       "4    7420         4          1        2         1          1         1   \n",
       "..    ...       ...        ...      ...       ...        ...       ...   \n",
       "540  3000         2          1        1         1          0         1   \n",
       "541  2400         3          1        1         0          0         0   \n",
       "542  3620         2          1        1         1          0         0   \n",
       "543  2910         3          1        1         0          0         0   \n",
       "544  3850         3          1        2         1          0         0   \n",
       "\n",
       "     hotwaterheating  airconditioning  parking  furnishingstatus  \n",
       "0                  0                1        2                 0  \n",
       "1                  0                1        3                 0  \n",
       "2                  0                0        2                 1  \n",
       "3                  0                1        3                 0  \n",
       "4                  0                1        2                 0  \n",
       "..               ...              ...      ...               ...  \n",
       "540                0                0        2                 2  \n",
       "541                0                0        0                 1  \n",
       "542                0                0        0                 2  \n",
       "543                0                0        0                 0  \n",
       "544                0                0        0                 2  \n",
       "\n",
       "[545 rows x 11 columns]"
      ]
     },
     "execution_count": 29,
     "metadata": {},
     "output_type": "execute_result"
    }
   ],
   "source": [
    "X"
   ]
  },
  {
   "cell_type": "code",
   "execution_count": 30,
   "id": "61a37859",
   "metadata": {},
   "outputs": [
    {
     "data": {
      "text/plain": [
       "0      4340000\n",
       "1      4340000\n",
       "2      4340000\n",
       "3      4340000\n",
       "4      4340000\n",
       "        ...   \n",
       "540    1820000\n",
       "541    1767150\n",
       "542    1750000\n",
       "543    1750000\n",
       "544    1750000\n",
       "Name: price, Length: 545, dtype: int64"
      ]
     },
     "execution_count": 30,
     "metadata": {},
     "output_type": "execute_result"
    }
   ],
   "source": [
    "y"
   ]
  },
  {
   "cell_type": "markdown",
   "id": "476b5424",
   "metadata": {},
   "source": [
    "## 9. Scale the independent variables\n"
   ]
  },
  {
   "cell_type": "code",
   "execution_count": 31,
   "id": "1f24673f",
   "metadata": {},
   "outputs": [
    {
     "data": {
      "text/plain": [
       "Index(['area', 'bedrooms', 'bathrooms', 'stories', 'mainroad', 'guestroom',\n",
       "       'basement', 'hotwaterheating', 'airconditioning', 'parking',\n",
       "       'furnishingstatus'],\n",
       "      dtype='object')"
      ]
     },
     "execution_count": 31,
     "metadata": {},
     "output_type": "execute_result"
    }
   ],
   "source": [
    "name=X.columns\n",
    "name"
   ]
  },
  {
   "cell_type": "code",
   "execution_count": 32,
   "id": "6bd2dbc5",
   "metadata": {},
   "outputs": [],
   "source": [
    "from sklearn.preprocessing import MinMaxScaler\n",
    "\n",
    "min_max=MinMaxScaler()"
   ]
  },
  {
   "cell_type": "code",
   "execution_count": 33,
   "id": "3dd5c701",
   "metadata": {},
   "outputs": [],
   "source": [
    "X_scaled=min_max.fit_transform(X)"
   ]
  },
  {
   "cell_type": "code",
   "execution_count": 34,
   "id": "862b802e",
   "metadata": {},
   "outputs": [
    {
     "data": {
      "text/plain": [
       "array([[0.6519774 , 1.        , 0.5       , ..., 1.        , 0.66666667,\n",
       "        0.        ],\n",
       "       [0.8259887 , 1.        , 0.        , ..., 1.        , 1.        ,\n",
       "        0.        ],\n",
       "       [0.93898305, 0.66666667, 0.5       , ..., 0.        , 0.66666667,\n",
       "        0.5       ],\n",
       "       ...,\n",
       "       [0.22259887, 0.33333333, 0.        , ..., 0.        , 0.        ,\n",
       "        1.        ],\n",
       "       [0.14237288, 0.66666667, 0.        , ..., 0.        , 0.        ,\n",
       "        0.        ],\n",
       "       [0.24858757, 0.66666667, 0.        , ..., 0.        , 0.        ,\n",
       "        1.        ]])"
      ]
     },
     "execution_count": 34,
     "metadata": {},
     "output_type": "execute_result"
    }
   ],
   "source": [
    "X_scaled"
   ]
  },
  {
   "cell_type": "code",
   "execution_count": 35,
   "id": "5a1059a2",
   "metadata": {},
   "outputs": [
    {
     "data": {
      "text/html": [
       "<div>\n",
       "<style scoped>\n",
       "    .dataframe tbody tr th:only-of-type {\n",
       "        vertical-align: middle;\n",
       "    }\n",
       "\n",
       "    .dataframe tbody tr th {\n",
       "        vertical-align: top;\n",
       "    }\n",
       "\n",
       "    .dataframe thead th {\n",
       "        text-align: right;\n",
       "    }\n",
       "</style>\n",
       "<table border=\"1\" class=\"dataframe\">\n",
       "  <thead>\n",
       "    <tr style=\"text-align: right;\">\n",
       "      <th></th>\n",
       "      <th>area</th>\n",
       "      <th>bedrooms</th>\n",
       "      <th>bathrooms</th>\n",
       "      <th>stories</th>\n",
       "      <th>mainroad</th>\n",
       "      <th>guestroom</th>\n",
       "      <th>basement</th>\n",
       "      <th>hotwaterheating</th>\n",
       "      <th>airconditioning</th>\n",
       "      <th>parking</th>\n",
       "      <th>furnishingstatus</th>\n",
       "    </tr>\n",
       "  </thead>\n",
       "  <tbody>\n",
       "    <tr>\n",
       "      <th>0</th>\n",
       "      <td>0.651977</td>\n",
       "      <td>1.000000</td>\n",
       "      <td>0.5</td>\n",
       "      <td>1.0</td>\n",
       "      <td>1.0</td>\n",
       "      <td>0.0</td>\n",
       "      <td>0.0</td>\n",
       "      <td>0.0</td>\n",
       "      <td>1.0</td>\n",
       "      <td>0.666667</td>\n",
       "      <td>0.0</td>\n",
       "    </tr>\n",
       "    <tr>\n",
       "      <th>1</th>\n",
       "      <td>0.825989</td>\n",
       "      <td>1.000000</td>\n",
       "      <td>0.0</td>\n",
       "      <td>0.5</td>\n",
       "      <td>1.0</td>\n",
       "      <td>0.0</td>\n",
       "      <td>0.0</td>\n",
       "      <td>0.0</td>\n",
       "      <td>1.0</td>\n",
       "      <td>1.000000</td>\n",
       "      <td>0.0</td>\n",
       "    </tr>\n",
       "    <tr>\n",
       "      <th>2</th>\n",
       "      <td>0.938983</td>\n",
       "      <td>0.666667</td>\n",
       "      <td>0.5</td>\n",
       "      <td>0.5</td>\n",
       "      <td>1.0</td>\n",
       "      <td>0.0</td>\n",
       "      <td>1.0</td>\n",
       "      <td>0.0</td>\n",
       "      <td>0.0</td>\n",
       "      <td>0.666667</td>\n",
       "      <td>0.5</td>\n",
       "    </tr>\n",
       "    <tr>\n",
       "      <th>3</th>\n",
       "      <td>0.661017</td>\n",
       "      <td>1.000000</td>\n",
       "      <td>0.5</td>\n",
       "      <td>0.5</td>\n",
       "      <td>1.0</td>\n",
       "      <td>0.0</td>\n",
       "      <td>1.0</td>\n",
       "      <td>0.0</td>\n",
       "      <td>1.0</td>\n",
       "      <td>1.000000</td>\n",
       "      <td>0.0</td>\n",
       "    </tr>\n",
       "    <tr>\n",
       "      <th>4</th>\n",
       "      <td>0.651977</td>\n",
       "      <td>1.000000</td>\n",
       "      <td>0.0</td>\n",
       "      <td>0.5</td>\n",
       "      <td>1.0</td>\n",
       "      <td>1.0</td>\n",
       "      <td>1.0</td>\n",
       "      <td>0.0</td>\n",
       "      <td>1.0</td>\n",
       "      <td>0.666667</td>\n",
       "      <td>0.0</td>\n",
       "    </tr>\n",
       "    <tr>\n",
       "      <th>...</th>\n",
       "      <td>...</td>\n",
       "      <td>...</td>\n",
       "      <td>...</td>\n",
       "      <td>...</td>\n",
       "      <td>...</td>\n",
       "      <td>...</td>\n",
       "      <td>...</td>\n",
       "      <td>...</td>\n",
       "      <td>...</td>\n",
       "      <td>...</td>\n",
       "      <td>...</td>\n",
       "    </tr>\n",
       "    <tr>\n",
       "      <th>540</th>\n",
       "      <td>0.152542</td>\n",
       "      <td>0.333333</td>\n",
       "      <td>0.0</td>\n",
       "      <td>0.0</td>\n",
       "      <td>1.0</td>\n",
       "      <td>0.0</td>\n",
       "      <td>1.0</td>\n",
       "      <td>0.0</td>\n",
       "      <td>0.0</td>\n",
       "      <td>0.666667</td>\n",
       "      <td>1.0</td>\n",
       "    </tr>\n",
       "    <tr>\n",
       "      <th>541</th>\n",
       "      <td>0.084746</td>\n",
       "      <td>0.666667</td>\n",
       "      <td>0.0</td>\n",
       "      <td>0.0</td>\n",
       "      <td>0.0</td>\n",
       "      <td>0.0</td>\n",
       "      <td>0.0</td>\n",
       "      <td>0.0</td>\n",
       "      <td>0.0</td>\n",
       "      <td>0.000000</td>\n",
       "      <td>0.5</td>\n",
       "    </tr>\n",
       "    <tr>\n",
       "      <th>542</th>\n",
       "      <td>0.222599</td>\n",
       "      <td>0.333333</td>\n",
       "      <td>0.0</td>\n",
       "      <td>0.0</td>\n",
       "      <td>1.0</td>\n",
       "      <td>0.0</td>\n",
       "      <td>0.0</td>\n",
       "      <td>0.0</td>\n",
       "      <td>0.0</td>\n",
       "      <td>0.000000</td>\n",
       "      <td>1.0</td>\n",
       "    </tr>\n",
       "    <tr>\n",
       "      <th>543</th>\n",
       "      <td>0.142373</td>\n",
       "      <td>0.666667</td>\n",
       "      <td>0.0</td>\n",
       "      <td>0.0</td>\n",
       "      <td>0.0</td>\n",
       "      <td>0.0</td>\n",
       "      <td>0.0</td>\n",
       "      <td>0.0</td>\n",
       "      <td>0.0</td>\n",
       "      <td>0.000000</td>\n",
       "      <td>0.0</td>\n",
       "    </tr>\n",
       "    <tr>\n",
       "      <th>544</th>\n",
       "      <td>0.248588</td>\n",
       "      <td>0.666667</td>\n",
       "      <td>0.0</td>\n",
       "      <td>0.5</td>\n",
       "      <td>1.0</td>\n",
       "      <td>0.0</td>\n",
       "      <td>0.0</td>\n",
       "      <td>0.0</td>\n",
       "      <td>0.0</td>\n",
       "      <td>0.000000</td>\n",
       "      <td>1.0</td>\n",
       "    </tr>\n",
       "  </tbody>\n",
       "</table>\n",
       "<p>545 rows × 11 columns</p>\n",
       "</div>"
      ],
      "text/plain": [
       "         area  bedrooms  bathrooms  stories  mainroad  guestroom  basement  \\\n",
       "0    0.651977  1.000000        0.5      1.0       1.0        0.0       0.0   \n",
       "1    0.825989  1.000000        0.0      0.5       1.0        0.0       0.0   \n",
       "2    0.938983  0.666667        0.5      0.5       1.0        0.0       1.0   \n",
       "3    0.661017  1.000000        0.5      0.5       1.0        0.0       1.0   \n",
       "4    0.651977  1.000000        0.0      0.5       1.0        1.0       1.0   \n",
       "..        ...       ...        ...      ...       ...        ...       ...   \n",
       "540  0.152542  0.333333        0.0      0.0       1.0        0.0       1.0   \n",
       "541  0.084746  0.666667        0.0      0.0       0.0        0.0       0.0   \n",
       "542  0.222599  0.333333        0.0      0.0       1.0        0.0       0.0   \n",
       "543  0.142373  0.666667        0.0      0.0       0.0        0.0       0.0   \n",
       "544  0.248588  0.666667        0.0      0.5       1.0        0.0       0.0   \n",
       "\n",
       "     hotwaterheating  airconditioning   parking  furnishingstatus  \n",
       "0                0.0              1.0  0.666667               0.0  \n",
       "1                0.0              1.0  1.000000               0.0  \n",
       "2                0.0              0.0  0.666667               0.5  \n",
       "3                0.0              1.0  1.000000               0.0  \n",
       "4                0.0              1.0  0.666667               0.0  \n",
       "..               ...              ...       ...               ...  \n",
       "540              0.0              0.0  0.666667               1.0  \n",
       "541              0.0              0.0  0.000000               0.5  \n",
       "542              0.0              0.0  0.000000               1.0  \n",
       "543              0.0              0.0  0.000000               0.0  \n",
       "544              0.0              0.0  0.000000               1.0  \n",
       "\n",
       "[545 rows x 11 columns]"
      ]
     },
     "execution_count": 35,
     "metadata": {},
     "output_type": "execute_result"
    }
   ],
   "source": [
    "x=pd.DataFrame(X_scaled,columns=name)\n",
    "x"
   ]
  },
  {
   "cell_type": "markdown",
   "id": "2daa196f",
   "metadata": {},
   "source": [
    "## 10. Split the data into training and testing"
   ]
  },
  {
   "cell_type": "code",
   "execution_count": 36,
   "id": "904fb873",
   "metadata": {},
   "outputs": [],
   "source": [
    "from sklearn.model_selection import train_test_split"
   ]
  },
  {
   "cell_type": "code",
   "execution_count": 37,
   "id": "1d632fdb",
   "metadata": {},
   "outputs": [],
   "source": [
    "X_train,X_test,y_train,y_test=train_test_split(x,y,test_size=0.2,random_state=0)"
   ]
  },
  {
   "cell_type": "markdown",
   "id": "f85f7901",
   "metadata": {},
   "source": [
    "## 11. Build the Model"
   ]
  },
  {
   "cell_type": "code",
   "execution_count": 38,
   "id": "59ee765d",
   "metadata": {},
   "outputs": [],
   "source": [
    "# Model Building\n",
    "from sklearn.linear_model import LinearRegression\n",
    "lr=LinearRegression()"
   ]
  },
  {
   "cell_type": "markdown",
   "id": "43b4e55e",
   "metadata": {},
   "source": [
    "## 12. Train the Model"
   ]
  },
  {
   "cell_type": "code",
   "execution_count": 39,
   "id": "e3ddc587",
   "metadata": {},
   "outputs": [
    {
     "data": {
      "text/html": [
       "<style>#sk-container-id-1 {color: black;background-color: white;}#sk-container-id-1 pre{padding: 0;}#sk-container-id-1 div.sk-toggleable {background-color: white;}#sk-container-id-1 label.sk-toggleable__label {cursor: pointer;display: block;width: 100%;margin-bottom: 0;padding: 0.3em;box-sizing: border-box;text-align: center;}#sk-container-id-1 label.sk-toggleable__label-arrow:before {content: \"▸\";float: left;margin-right: 0.25em;color: #696969;}#sk-container-id-1 label.sk-toggleable__label-arrow:hover:before {color: black;}#sk-container-id-1 div.sk-estimator:hover label.sk-toggleable__label-arrow:before {color: black;}#sk-container-id-1 div.sk-toggleable__content {max-height: 0;max-width: 0;overflow: hidden;text-align: left;background-color: #f0f8ff;}#sk-container-id-1 div.sk-toggleable__content pre {margin: 0.2em;color: black;border-radius: 0.25em;background-color: #f0f8ff;}#sk-container-id-1 input.sk-toggleable__control:checked~div.sk-toggleable__content {max-height: 200px;max-width: 100%;overflow: auto;}#sk-container-id-1 input.sk-toggleable__control:checked~label.sk-toggleable__label-arrow:before {content: \"▾\";}#sk-container-id-1 div.sk-estimator input.sk-toggleable__control:checked~label.sk-toggleable__label {background-color: #d4ebff;}#sk-container-id-1 div.sk-label input.sk-toggleable__control:checked~label.sk-toggleable__label {background-color: #d4ebff;}#sk-container-id-1 input.sk-hidden--visually {border: 0;clip: rect(1px 1px 1px 1px);clip: rect(1px, 1px, 1px, 1px);height: 1px;margin: -1px;overflow: hidden;padding: 0;position: absolute;width: 1px;}#sk-container-id-1 div.sk-estimator {font-family: monospace;background-color: #f0f8ff;border: 1px dotted black;border-radius: 0.25em;box-sizing: border-box;margin-bottom: 0.5em;}#sk-container-id-1 div.sk-estimator:hover {background-color: #d4ebff;}#sk-container-id-1 div.sk-parallel-item::after {content: \"\";width: 100%;border-bottom: 1px solid gray;flex-grow: 1;}#sk-container-id-1 div.sk-label:hover label.sk-toggleable__label {background-color: #d4ebff;}#sk-container-id-1 div.sk-serial::before {content: \"\";position: absolute;border-left: 1px solid gray;box-sizing: border-box;top: 0;bottom: 0;left: 50%;z-index: 0;}#sk-container-id-1 div.sk-serial {display: flex;flex-direction: column;align-items: center;background-color: white;padding-right: 0.2em;padding-left: 0.2em;position: relative;}#sk-container-id-1 div.sk-item {position: relative;z-index: 1;}#sk-container-id-1 div.sk-parallel {display: flex;align-items: stretch;justify-content: center;background-color: white;position: relative;}#sk-container-id-1 div.sk-item::before, #sk-container-id-1 div.sk-parallel-item::before {content: \"\";position: absolute;border-left: 1px solid gray;box-sizing: border-box;top: 0;bottom: 0;left: 50%;z-index: -1;}#sk-container-id-1 div.sk-parallel-item {display: flex;flex-direction: column;z-index: 1;position: relative;background-color: white;}#sk-container-id-1 div.sk-parallel-item:first-child::after {align-self: flex-end;width: 50%;}#sk-container-id-1 div.sk-parallel-item:last-child::after {align-self: flex-start;width: 50%;}#sk-container-id-1 div.sk-parallel-item:only-child::after {width: 0;}#sk-container-id-1 div.sk-dashed-wrapped {border: 1px dashed gray;margin: 0 0.4em 0.5em 0.4em;box-sizing: border-box;padding-bottom: 0.4em;background-color: white;}#sk-container-id-1 div.sk-label label {font-family: monospace;font-weight: bold;display: inline-block;line-height: 1.2em;}#sk-container-id-1 div.sk-label-container {text-align: center;}#sk-container-id-1 div.sk-container {/* jupyter's `normalize.less` sets `[hidden] { display: none; }` but bootstrap.min.css set `[hidden] { display: none !important; }` so we also need the `!important` here to be able to override the default hidden behavior on the sphinx rendered scikit-learn.org. See: https://github.com/scikit-learn/scikit-learn/issues/21755 */display: inline-block !important;position: relative;}#sk-container-id-1 div.sk-text-repr-fallback {display: none;}</style><div id=\"sk-container-id-1\" class=\"sk-top-container\"><div class=\"sk-text-repr-fallback\"><pre>LinearRegression()</pre><b>In a Jupyter environment, please rerun this cell to show the HTML representation or trust the notebook. <br />On GitHub, the HTML representation is unable to render, please try loading this page with nbviewer.org.</b></div><div class=\"sk-container\" hidden><div class=\"sk-item\"><div class=\"sk-estimator sk-toggleable\"><input class=\"sk-toggleable__control sk-hidden--visually\" id=\"sk-estimator-id-1\" type=\"checkbox\" checked><label for=\"sk-estimator-id-1\" class=\"sk-toggleable__label sk-toggleable__label-arrow\">LinearRegression</label><div class=\"sk-toggleable__content\"><pre>LinearRegression()</pre></div></div></div></div></div>"
      ],
      "text/plain": [
       "LinearRegression()"
      ]
     },
     "execution_count": 39,
     "metadata": {},
     "output_type": "execute_result"
    }
   ],
   "source": [
    "lr.fit(X_train,y_train)"
   ]
  },
  {
   "cell_type": "markdown",
   "id": "4baa42a9",
   "metadata": {},
   "source": [
    "## 13. Test the Model"
   ]
  },
  {
   "cell_type": "code",
   "execution_count": 40,
   "id": "f0e67738",
   "metadata": {},
   "outputs": [],
   "source": [
    "y_pred=lr.predict(X_test)"
   ]
  },
  {
   "cell_type": "code",
   "execution_count": 41,
   "id": "0eaeb56d",
   "metadata": {},
   "outputs": [
    {
     "data": {
      "text/plain": [
       "array([4196058.89282128, 5558954.12559219, 4741558.88746372,\n",
       "       4882100.07999112, 3050356.46511124, 7152640.21402219,\n",
       "       3346986.67477542, 3200561.36993319, 3060356.60972142,\n",
       "       7201507.02649389, 5791639.32564765, 4114662.97432151,\n",
       "       3975524.50332686, 5036046.03310682, 4242818.5650605 ,\n",
       "       2235644.69556146, 4212343.11273072, 4007516.33789536,\n",
       "       3277336.04783928, 4767914.26953027, 5972325.70459674,\n",
       "       6081903.80469255, 5001137.65020638, 3034494.90162604,\n",
       "       4846075.48750053, 5839976.53415419, 4642063.10619094,\n",
       "       5764326.55495218, 5261702.91341653, 5484929.76568897,\n",
       "       3539241.12264704, 5479604.15012456, 6513304.99302152,\n",
       "       3193882.8426424 , 4076203.63394831, 5075484.64742199,\n",
       "       4892828.85412373, 3870827.79796837, 3352159.68153863,\n",
       "       4186823.71610817, 6945188.98022369, 4594321.08485025,\n",
       "       5611188.45717346, 3864584.50801092, 3263532.77919981,\n",
       "       6289867.8329962 , 4924704.69994137, 3122602.54784876,\n",
       "       4197527.59134191, 5965352.1355137 , 4154169.32400067,\n",
       "       6930897.36903167, 2656327.02184247, 3328871.00189406,\n",
       "       3789074.2830681 , 4799028.46032384, 7113189.3331157 ,\n",
       "       4233463.95541351, 3265648.35373072, 4618968.44059685,\n",
       "       4045289.95256431, 6084001.62657017, 3196881.56086518,\n",
       "       6241682.20379665, 2738794.59816766, 4843237.72794669,\n",
       "       6486728.6140193 , 2677775.61386523, 4121593.7016197 ,\n",
       "       5098672.4196004 , 3899819.94656367, 6380862.24776841,\n",
       "       4771778.29440649, 5521951.0091614 , 4449048.65590683,\n",
       "       4218918.21659227, 2859789.97293091, 6749690.10095499,\n",
       "       2865667.51333395, 3366804.59079206, 3899819.94656367,\n",
       "       5986738.2443677 , 5035517.28097678, 5799675.87224585,\n",
       "       4152068.03691374, 4253200.71634144, 4459001.70674534,\n",
       "       5463890.1885988 , 4153974.9921803 , 4422301.12962774,\n",
       "       3498580.31527234, 5330881.66335346, 3530081.64408629,\n",
       "       3448380.23637964, 3809329.77205952, 6600615.69808756,\n",
       "       3039618.89074512, 6256327.11305008, 4645800.08653831,\n",
       "       4805121.15990992, 6377458.82785604, 3330434.11987671,\n",
       "       4609951.05857647, 3607406.06998341, 6650399.54856005,\n",
       "       5425499.35937968, 4203192.90435963, 4732123.54681097,\n",
       "       5330835.2389462 ])"
      ]
     },
     "execution_count": 41,
     "metadata": {},
     "output_type": "execute_result"
    }
   ],
   "source": [
    "y_pred"
   ]
  },
  {
   "cell_type": "code",
   "execution_count": 42,
   "id": "204c9eea",
   "metadata": {},
   "outputs": [
    {
     "data": {
      "text/plain": [
       "239    4585000\n",
       "113    6083000\n",
       "325    4007500\n",
       "66     6930000\n",
       "479    2940000\n",
       "        ...   \n",
       "76     6650000\n",
       "132    5810000\n",
       "311    4123000\n",
       "464    3080000\n",
       "155    5530000\n",
       "Name: price, Length: 109, dtype: int64"
      ]
     },
     "execution_count": 42,
     "metadata": {},
     "output_type": "execute_result"
    }
   ],
   "source": [
    "y_test"
   ]
  },
  {
   "cell_type": "code",
   "execution_count": 44,
   "id": "0f61ab84",
   "metadata": {},
   "outputs": [
    {
     "data": {
      "text/plain": [
       "0.3022888782505101"
      ]
     },
     "execution_count": 44,
     "metadata": {},
     "output_type": "execute_result"
    }
   ],
   "source": [
    "from sklearn.metrics import r2_score\n",
    "acc=r2_score(y_pred,y_test)\n",
    "acc"
   ]
  },
  {
   "cell_type": "markdown",
   "id": "e809c7f2",
   "metadata": {},
   "source": [
    "## 14. Measure the performance using Metrics."
   ]
  },
  {
   "cell_type": "code",
   "execution_count": 45,
   "id": "eda65fa8",
   "metadata": {},
   "outputs": [],
   "source": [
    "from sklearn.metrics import mean_squared_error,r2_score, mean_absolute_error"
   ]
  },
  {
   "cell_type": "code",
   "execution_count": 46,
   "id": "d6018b00",
   "metadata": {},
   "outputs": [
    {
     "data": {
      "text/plain": [
       "239    3.889411e+05\n",
       "113    5.240459e+05\n",
       "325   -7.340589e+05\n",
       "66     2.047900e+06\n",
       "479   -1.103565e+05\n",
       "           ...     \n",
       "76    -3.995486e+02\n",
       "132    3.845006e+05\n",
       "311   -8.019290e+04\n",
       "464   -1.652124e+06\n",
       "155    1.991648e+05\n",
       "Name: price, Length: 109, dtype: float64"
      ]
     },
     "execution_count": 46,
     "metadata": {},
     "output_type": "execute_result"
    }
   ],
   "source": [
    "# Error\n",
    "\n",
    "E=y_test-y_pred\n",
    "E"
   ]
  },
  {
   "cell_type": "code",
   "execution_count": 47,
   "id": "338f1f62",
   "metadata": {},
   "outputs": [
    {
     "data": {
      "text/plain": [
       "239    1.512752e+11\n",
       "113    2.746241e+11\n",
       "325    5.388425e+11\n",
       "66     4.193894e+12\n",
       "479    1.217855e+10\n",
       "           ...     \n",
       "76     1.596391e+05\n",
       "132    1.478407e+11\n",
       "311    6.430902e+09\n",
       "464    2.729512e+12\n",
       "155    3.966660e+10\n",
       "Name: price, Length: 109, dtype: float64"
      ]
     },
     "execution_count": 47,
     "metadata": {},
     "output_type": "execute_result"
    }
   ],
   "source": [
    "# Squared Error\n",
    "\n",
    "se=E*E\n",
    "se"
   ]
  },
  {
   "cell_type": "code",
   "execution_count": 48,
   "id": "75328c28",
   "metadata": {},
   "outputs": [
    {
     "data": {
      "text/plain": [
       "999699705714.862"
      ]
     },
     "execution_count": 48,
     "metadata": {},
     "output_type": "execute_result"
    }
   ],
   "source": [
    "# Mean squared error\n",
    "\n",
    "mse=np.mean(se)\n",
    "mse"
   ]
  },
  {
   "cell_type": "code",
   "execution_count": 49,
   "id": "12217b17",
   "metadata": {},
   "outputs": [
    {
     "data": {
      "text/plain": [
       "999699705714.862"
      ]
     },
     "execution_count": 49,
     "metadata": {},
     "output_type": "execute_result"
    }
   ],
   "source": [
    "mse2=mean_squared_error(y_test,y_pred)\n",
    "mse2"
   ]
  },
  {
   "cell_type": "code",
   "execution_count": 50,
   "id": "375709aa",
   "metadata": {},
   "outputs": [
    {
     "data": {
      "text/plain": [
       "730858.9301361126"
      ]
     },
     "execution_count": 50,
     "metadata": {},
     "output_type": "execute_result"
    }
   ],
   "source": [
    "# Mean Absolute Error\n",
    "mae=mean_absolute_error(y_test,y_pred)\n",
    "mae"
   ]
  },
  {
   "cell_type": "code",
   "execution_count": 51,
   "id": "336fa81f",
   "metadata": {},
   "outputs": [
    {
     "data": {
      "text/plain": [
       "999849.841583656"
      ]
     },
     "execution_count": 51,
     "metadata": {},
     "output_type": "execute_result"
    }
   ],
   "source": [
    "# Root Mean Square Error\n",
    "rmse=np.sqrt(mse2)\n",
    "rmse"
   ]
  },
  {
   "cell_type": "code",
   "execution_count": 52,
   "id": "5572cd7f",
   "metadata": {},
   "outputs": [
    {
     "data": {
      "text/plain": [
       "0.5366315124088297"
      ]
     },
     "execution_count": 52,
     "metadata": {},
     "output_type": "execute_result"
    }
   ],
   "source": [
    "# R-Squared\n",
    "r2=r2_score(y_test,y_pred)\n",
    "r2"
   ]
  },
  {
   "cell_type": "markdown",
   "id": "7c288af8",
   "metadata": {},
   "source": [
    "## Logistic Regression"
   ]
  },
  {
   "cell_type": "code",
   "execution_count": 53,
   "id": "fa39a0a5",
   "metadata": {},
   "outputs": [],
   "source": [
    "from sklearn.linear_model import LogisticRegression\n",
    "Lr=LogisticRegression()"
   ]
  },
  {
   "cell_type": "code",
   "execution_count": 55,
   "id": "21d7e092",
   "metadata": {},
   "outputs": [
    {
     "data": {
      "text/html": [
       "<style>#sk-container-id-2 {color: black;background-color: white;}#sk-container-id-2 pre{padding: 0;}#sk-container-id-2 div.sk-toggleable {background-color: white;}#sk-container-id-2 label.sk-toggleable__label {cursor: pointer;display: block;width: 100%;margin-bottom: 0;padding: 0.3em;box-sizing: border-box;text-align: center;}#sk-container-id-2 label.sk-toggleable__label-arrow:before {content: \"▸\";float: left;margin-right: 0.25em;color: #696969;}#sk-container-id-2 label.sk-toggleable__label-arrow:hover:before {color: black;}#sk-container-id-2 div.sk-estimator:hover label.sk-toggleable__label-arrow:before {color: black;}#sk-container-id-2 div.sk-toggleable__content {max-height: 0;max-width: 0;overflow: hidden;text-align: left;background-color: #f0f8ff;}#sk-container-id-2 div.sk-toggleable__content pre {margin: 0.2em;color: black;border-radius: 0.25em;background-color: #f0f8ff;}#sk-container-id-2 input.sk-toggleable__control:checked~div.sk-toggleable__content {max-height: 200px;max-width: 100%;overflow: auto;}#sk-container-id-2 input.sk-toggleable__control:checked~label.sk-toggleable__label-arrow:before {content: \"▾\";}#sk-container-id-2 div.sk-estimator input.sk-toggleable__control:checked~label.sk-toggleable__label {background-color: #d4ebff;}#sk-container-id-2 div.sk-label input.sk-toggleable__control:checked~label.sk-toggleable__label {background-color: #d4ebff;}#sk-container-id-2 input.sk-hidden--visually {border: 0;clip: rect(1px 1px 1px 1px);clip: rect(1px, 1px, 1px, 1px);height: 1px;margin: -1px;overflow: hidden;padding: 0;position: absolute;width: 1px;}#sk-container-id-2 div.sk-estimator {font-family: monospace;background-color: #f0f8ff;border: 1px dotted black;border-radius: 0.25em;box-sizing: border-box;margin-bottom: 0.5em;}#sk-container-id-2 div.sk-estimator:hover {background-color: #d4ebff;}#sk-container-id-2 div.sk-parallel-item::after {content: \"\";width: 100%;border-bottom: 1px solid gray;flex-grow: 1;}#sk-container-id-2 div.sk-label:hover label.sk-toggleable__label {background-color: #d4ebff;}#sk-container-id-2 div.sk-serial::before {content: \"\";position: absolute;border-left: 1px solid gray;box-sizing: border-box;top: 0;bottom: 0;left: 50%;z-index: 0;}#sk-container-id-2 div.sk-serial {display: flex;flex-direction: column;align-items: center;background-color: white;padding-right: 0.2em;padding-left: 0.2em;position: relative;}#sk-container-id-2 div.sk-item {position: relative;z-index: 1;}#sk-container-id-2 div.sk-parallel {display: flex;align-items: stretch;justify-content: center;background-color: white;position: relative;}#sk-container-id-2 div.sk-item::before, #sk-container-id-2 div.sk-parallel-item::before {content: \"\";position: absolute;border-left: 1px solid gray;box-sizing: border-box;top: 0;bottom: 0;left: 50%;z-index: -1;}#sk-container-id-2 div.sk-parallel-item {display: flex;flex-direction: column;z-index: 1;position: relative;background-color: white;}#sk-container-id-2 div.sk-parallel-item:first-child::after {align-self: flex-end;width: 50%;}#sk-container-id-2 div.sk-parallel-item:last-child::after {align-self: flex-start;width: 50%;}#sk-container-id-2 div.sk-parallel-item:only-child::after {width: 0;}#sk-container-id-2 div.sk-dashed-wrapped {border: 1px dashed gray;margin: 0 0.4em 0.5em 0.4em;box-sizing: border-box;padding-bottom: 0.4em;background-color: white;}#sk-container-id-2 div.sk-label label {font-family: monospace;font-weight: bold;display: inline-block;line-height: 1.2em;}#sk-container-id-2 div.sk-label-container {text-align: center;}#sk-container-id-2 div.sk-container {/* jupyter's `normalize.less` sets `[hidden] { display: none; }` but bootstrap.min.css set `[hidden] { display: none !important; }` so we also need the `!important` here to be able to override the default hidden behavior on the sphinx rendered scikit-learn.org. See: https://github.com/scikit-learn/scikit-learn/issues/21755 */display: inline-block !important;position: relative;}#sk-container-id-2 div.sk-text-repr-fallback {display: none;}</style><div id=\"sk-container-id-2\" class=\"sk-top-container\"><div class=\"sk-text-repr-fallback\"><pre>LogisticRegression()</pre><b>In a Jupyter environment, please rerun this cell to show the HTML representation or trust the notebook. <br />On GitHub, the HTML representation is unable to render, please try loading this page with nbviewer.org.</b></div><div class=\"sk-container\" hidden><div class=\"sk-item\"><div class=\"sk-estimator sk-toggleable\"><input class=\"sk-toggleable__control sk-hidden--visually\" id=\"sk-estimator-id-2\" type=\"checkbox\" checked><label for=\"sk-estimator-id-2\" class=\"sk-toggleable__label sk-toggleable__label-arrow\">LogisticRegression</label><div class=\"sk-toggleable__content\"><pre>LogisticRegression()</pre></div></div></div></div></div>"
      ],
      "text/plain": [
       "LogisticRegression()"
      ]
     },
     "execution_count": 55,
     "metadata": {},
     "output_type": "execute_result"
    }
   ],
   "source": [
    "Lr.fit(X_train,y_train)"
   ]
  },
  {
   "cell_type": "code",
   "execution_count": 56,
   "id": "084ca17c",
   "metadata": {},
   "outputs": [],
   "source": [
    "pred=lr.predict(X_test)"
   ]
  },
  {
   "cell_type": "code",
   "execution_count": 57,
   "id": "e16a11ba",
   "metadata": {},
   "outputs": [],
   "source": [
    "pred1=lr.predict(X_train)"
   ]
  },
  {
   "cell_type": "code",
   "execution_count": 72,
   "id": "032d4e43",
   "metadata": {},
   "outputs": [
    {
     "data": {
      "text/plain": [
       "0.5366315124088297"
      ]
     },
     "execution_count": 72,
     "metadata": {},
     "output_type": "execute_result"
    }
   ],
   "source": [
    "from sklearn.metrics import r2_score\n",
    "acc=r2_score(y_test,y_pred)\n",
    "acc"
   ]
  },
  {
   "cell_type": "code",
   "execution_count": null,
   "id": "838138e1",
   "metadata": {},
   "outputs": [],
   "source": []
  }
 ],
 "metadata": {
  "kernelspec": {
   "display_name": "Python 3 (ipykernel)",
   "language": "python",
   "name": "python3"
  },
  "language_info": {
   "codemirror_mode": {
    "name": "ipython",
    "version": 3
   },
   "file_extension": ".py",
   "mimetype": "text/x-python",
   "name": "python",
   "nbconvert_exporter": "python",
   "pygments_lexer": "ipython3",
   "version": "3.10.9"
  }
 },
 "nbformat": 4,
 "nbformat_minor": 5
}
